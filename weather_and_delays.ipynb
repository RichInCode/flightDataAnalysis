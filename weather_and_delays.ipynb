{
 "cells": [
  {
   "cell_type": "markdown",
   "metadata": {},
   "source": [
    "# This notebook contains some analysis of flight delay patterns and attempts to connect weather data to the cause of the delays."
   ]
  },
  {
   "cell_type": "markdown",
   "metadata": {},
   "source": [
    "#### efforts are focused on JFK and LaGuardia airports in NYC.  In contrast to the previous notebooks, flight data is looked at for the entire year of 2015."
   ]
  },
  {
   "cell_type": "code",
   "execution_count": 21,
   "metadata": {
    "collapsed": false
   },
   "outputs": [],
   "source": [
    "import pandas as pd\n",
    "%matplotlib inline\n",
    "\n",
    "import matplotlib\n",
    "import numpy as np\n",
    "import matplotlib.pyplot as plt"
   ]
  },
  {
   "cell_type": "code",
   "execution_count": 22,
   "metadata": {
    "collapsed": true
   },
   "outputs": [],
   "source": [
    "df_2015 = pd.read_csv('./data/363985671_T_ONTIME_July2015.zip')"
   ]
  },
  {
   "cell_type": "code",
   "execution_count": 23,
   "metadata": {
    "collapsed": false
   },
   "outputs": [
    {
     "data": {
      "text/plain": [
       "Index([u'YEAR', u'MONTH', u'DAY_OF_MONTH', u'DAY_OF_WEEK', u'UNIQUE_CARRIER',\n",
       "       u'AIRLINE_ID', u'CARRIER', u'ORIGIN_AIRPORT_ID',\n",
       "       u'ORIGIN_AIRPORT_SEQ_ID', u'ORIGIN_CITY_MARKET_ID', u'ORIGIN',\n",
       "       u'ORIGIN_CITY_NAME', u'ORIGIN_STATE_ABR', u'ORIGIN_STATE_NM',\n",
       "       u'DEST_AIRPORT_ID', u'DEST_AIRPORT_SEQ_ID', u'DEST_CITY_MARKET_ID',\n",
       "       u'DEST', u'DEST_CITY_NAME', u'DEST_STATE_ABR', u'DEST_STATE_NM',\n",
       "       u'CRS_DEP_TIME', u'DEP_TIME', u'DEP_DELAY', u'DEP_DELAY_NEW',\n",
       "       u'TAXI_OUT', u'WHEELS_OFF', u'WHEELS_ON', u'TAXI_IN', u'CRS_ARR_TIME',\n",
       "       u'ARR_TIME', u'ARR_DELAY', u'ARR_DELAY_NEW', u'CANCELLED',\n",
       "       u'CANCELLATION_CODE', u'DIVERTED', u'CRS_ELAPSED_TIME',\n",
       "       u'ACTUAL_ELAPSED_TIME', u'AIR_TIME', u'DISTANCE', u'CARRIER_DELAY',\n",
       "       u'WEATHER_DELAY', u'NAS_DELAY', u'SECURITY_DELAY',\n",
       "       u'LATE_AIRCRAFT_DELAY', u'FIRST_DEP_TIME', u'TOTAL_ADD_GTIME',\n",
       "       u'LONGEST_ADD_GTIME', u'Unnamed: 48'],\n",
       "      dtype='object')"
      ]
     },
     "execution_count": 23,
     "metadata": {},
     "output_type": "execute_result"
    }
   ],
   "source": [
    "df_2015.columns"
   ]
  },
  {
   "cell_type": "code",
   "execution_count": 24,
   "metadata": {
    "collapsed": false
   },
   "outputs": [
    {
     "data": {
      "image/png": "[encoded data removed]",
      "text/plain": [
       "<matplotlib.figure.Figure at 0x8c82f98>"
      ]
     },
     "metadata": {},
     "output_type": "display_data"
    }
   ],
   "source": [
    "#df_2015.hist('DEP_DELAY',bins=100,color='b')\n",
    "#df_2015[df_2015.CARRIER_DELAY==1].hist('DEP_DELAY',bins=100,color='r')\n",
    "\n",
    "bins = np.linspace(-100, 2500, 100)\n",
    "\n",
    "plt.hist(df_2015['DEP_DELAY'], bins, alpha=0.5, label='all',log=True)\n",
    "plt.hist(df_2015[df_2015.CARRIER_DELAY==1]['DEP_DELAY'], bins, alpha=0.5, label='carrier delay')\n",
    "plt.legend(loc='upper right')\n",
    "plt.show()"
   ]
  },
  {
   "cell_type": "code",
   "execution_count": 25,
   "metadata": {
    "collapsed": false
   },
   "outputs": [
    {
     "name": "stdout",
     "output_type": "stream",
     "text": [
      "[12478 12953]\n"
     ]
    }
   ],
   "source": [
    "print df_2015[df_2015.ORIGIN_CITY_NAME=='New York, NY']['ORIGIN_AIRPORT_ID'].unique()"
   ]
  },
  {
   "cell_type": "code",
   "execution_count": 26,
   "metadata": {
    "collapsed": false
   },
   "outputs": [
    {
     "name": "stdout",
     "output_type": "stream",
     "text": [
      "       Code                                  Description\n",
      "2381  12478  New York, NY: John F. Kennedy International\n",
      "       Code              Description\n",
      "2824  12953  New York, NY: LaGuardia\n"
     ]
    }
   ],
   "source": [
    "df_airport_codes = pd.read_csv('./data/L_AIRPORT_ID.csv-')\n",
    "#df_airport_codes['Description'] = df_airport_codes['Description'].apply(lambda x: x.split(':')[1].strip())\n",
    "#df_airport_codes[df_airport_codes.Description=='LaGuardia']\n",
    "#df_airport_codes = df_airport_codes.merge(df_airports,left_on='Description',right_on='airport')\n",
    "print df_airport_codes[df_airport_codes.Code==12478]\n",
    "print df_airport_codes[df_airport_codes.Code==12953]"
   ]
  },
  {
   "cell_type": "code",
   "execution_count": 27,
   "metadata": {
    "collapsed": false
   },
   "outputs": [
    {
     "name": "stderr",
     "output_type": "stream",
     "text": [
      "C:\\Users\\Rich\\Anaconda2\\lib\\site-packages\\ipykernel\\__main__.py:1: UserWarning: Boolean Series key will be reindexed to match DataFrame index.\n",
      "  if __name__ == '__main__':\n"
     ]
    },
    {
     "data": {
      "text/plain": [
       "DAY_OF_MONTH  ORIGIN_AIRPORT_ID\n",
       "1             12478                131\n",
       "              12953                116\n",
       "2             12478                102\n",
       "              12953                103\n",
       "3             12478                 82\n",
       "Name: DEP_DELAY, dtype: int64"
      ]
     },
     "execution_count": 27,
     "metadata": {},
     "output_type": "execute_result"
    }
   ],
   "source": [
    "temp = df_2015[df_2015.DEP_DELAY>0][df_2015.ORIGIN_CITY_NAME=='New York, NY'].groupby(['DAY_OF_MONTH','ORIGIN_AIRPORT_ID'])['DEP_DELAY'].count()\n",
    "temp.head()"
   ]
  },
  {
   "cell_type": "code",
   "execution_count": 28,
   "metadata": {
    "collapsed": false
   },
   "outputs": [
    {
     "data": {
      "text/plain": [
       "MultiIndex(levels=[[1, 2, 3, 4, 5, 6, 7, 8, 9, 10, 11, 12, 13, 14, 15, 16, 17, 18, 19, 20, 21, 22, 23, 24, 25, 26, 27, 28, 29, 30, 31], [12478, 12953]],\n",
       "           labels=[[0, 0, 1, 1, 2], [0, 1, 0, 1, 0]],\n",
       "           names=[u'DAY_OF_MONTH', u'ORIGIN_AIRPORT_ID'])"
      ]
     },
     "execution_count": 28,
     "metadata": {},
     "output_type": "execute_result"
    }
   ],
   "source": [
    "temp.head().index"
   ]
  },
  {
   "cell_type": "code",
   "execution_count": 29,
   "metadata": {
    "collapsed": false
   },
   "outputs": [
    {
     "name": "stderr",
     "output_type": "stream",
     "text": [
      "C:\\Users\\Rich\\Anaconda2\\lib\\site-packages\\ipykernel\\__main__.py:1: UserWarning: Boolean Series key will be reindexed to match DataFrame index.\n",
      "  if __name__ == '__main__':\n",
      "C:\\Users\\Rich\\Anaconda2\\lib\\site-packages\\ipykernel\\__main__.py:2: UserWarning: Boolean Series key will be reindexed to match DataFrame index.\n",
      "  from ipykernel import kernelapp as app\n"
     ]
    }
   ],
   "source": [
    "delays_12478_JFK_df = df_2015[df_2015.DEP_DELAY>0][df_2015.CARRIER_DELAY==1][df_2015.ORIGIN_CITY_NAME=='New York, NY'][df_2015.ORIGIN_AIRPORT_ID==12478].groupby('DAY_OF_MONTH')['DEP_DELAY'].count()\n",
    "delays_12953_LAG_df = df_2015[df_2015.DEP_DELAY>0][df_2015.CARRIER_DELAY==1][df_2015.ORIGIN_CITY_NAME=='New York, NY'][df_2015.ORIGIN_AIRPORT_ID==12953].groupby('DAY_OF_MONTH')['DEP_DELAY'].count()"
   ]
  },
  {
   "cell_type": "code",
   "execution_count": 30,
   "metadata": {
    "collapsed": false
   },
   "outputs": [
    {
     "ename": "NameError",
     "evalue": "name 'delays_12478_JFK' is not defined",
     "output_type": "error",
     "traceback": [
      "\u001b[1;31m---------------------------------------------------------------------------\u001b[0m",
      "\u001b[1;31mNameError\u001b[0m                                 Traceback (most recent call last)",
      "\u001b[1;32m<ipython-input-30-b6e607ee73cb>\u001b[0m in \u001b[0;36m<module>\u001b[1;34m()\u001b[0m\n\u001b[1;32m----> 1\u001b[1;33m \u001b[1;32mprint\u001b[0m \u001b[0mdelays_12478_JFK\u001b[0m\u001b[1;33m\u001b[0m\u001b[0m\n\u001b[0m",
      "\u001b[1;31mNameError\u001b[0m: name 'delays_12478_JFK' is not defined"
     ]
    }
   ],
   "source": [
    "print delays_12478_JFK"
   ]
  },
  {
   "cell_type": "code",
   "execution_count": 31,
   "metadata": {
    "collapsed": true
   },
   "outputs": [],
   "source": [
    "delays_12478_JFK = delays_12478_JFK_df.values\n",
    "delays_12953_LAG = delays_12953_LAG_df.values"
   ]
  },
  {
   "cell_type": "code",
   "execution_count": 32,
   "metadata": {
    "collapsed": false
   },
   "outputs": [],
   "source": [
    "days_JFK = delays_12478_JFK_df.index.values\n",
    "days_LAG = delays_12953_LAG_df.index.values"
   ]
  },
  {
   "cell_type": "code",
   "execution_count": 33,
   "metadata": {
    "collapsed": false
   },
   "outputs": [
    {
     "data": {
      "image/png": "[encoded data removed]",
      "text/plain": [
       "<matplotlib.figure.Figure at 0x17217ac8>"
      ]
     },
     "metadata": {},
     "output_type": "display_data"
    }
   ],
   "source": [
    "plt.plot(days_JFK, delays_12478_JFK, alpha=0.5, label='JFK')\n",
    "plt.plot(days_LAG, delays_12953_LAG, alpha=0.5, label='LAG')\n",
    "plt.legend(loc='upper right')\n",
    "plt.show()"
   ]
  },
  {
   "cell_type": "code",
   "execution_count": 34,
   "metadata": {
    "collapsed": false
   },
   "outputs": [],
   "source": [
    "frames = [ pd.read_csv('./data/791693465_T_ONTIME_'+str(i)+'_2015.zip') for i in xrange(1,13) ]\n",
    "df_ny_2015 = pd.concat(frames, ignore_index=True)\n",
    "    "
   ]
  },
  {
   "cell_type": "code",
   "execution_count": 35,
   "metadata": {
    "collapsed": false
   },
   "outputs": [
    {
     "data": {
      "text/html": [
       "<div>\n",
       "<table border=\"1\" class=\"dataframe\">\n",
       "  <thead>\n",
       "    <tr style=\"text-align: right;\">\n",
       "      <th></th>\n",
       "      <th>YEAR</th>\n",
       "      <th>MONTH</th>\n",
       "      <th>DAY_OF_MONTH</th>\n",
       "      <th>DAY_OF_WEEK</th>\n",
       "      <th>FL_DATE</th>\n",
       "      <th>UNIQUE_CARRIER</th>\n",
       "      <th>AIRLINE_ID</th>\n",
       "      <th>CARRIER</th>\n",
       "      <th>ORIGIN_AIRPORT_ID</th>\n",
       "      <th>ORIGIN_AIRPORT_SEQ_ID</th>\n",
       "      <th>...</th>\n",
       "      <th>FLIGHTS</th>\n",
       "      <th>DISTANCE</th>\n",
       "      <th>CARRIER_DELAY</th>\n",
       "      <th>WEATHER_DELAY</th>\n",
       "      <th>NAS_DELAY</th>\n",
       "      <th>SECURITY_DELAY</th>\n",
       "      <th>LATE_AIRCRAFT_DELAY</th>\n",
       "      <th>FIRST_DEP_TIME</th>\n",
       "      <th>TOTAL_ADD_GTIME</th>\n",
       "      <th>Unnamed: 49</th>\n",
       "    </tr>\n",
       "  </thead>\n",
       "  <tbody>\n",
       "    <tr>\n",
       "      <th>0</th>\n",
       "      <td>2015</td>\n",
       "      <td>1</td>\n",
       "      <td>1</td>\n",
       "      <td>4</td>\n",
       "      <td>2015-01-01</td>\n",
       "      <td>AA</td>\n",
       "      <td>19805</td>\n",
       "      <td>AA</td>\n",
       "      <td>12478</td>\n",
       "      <td>1247802</td>\n",
       "      <td>...</td>\n",
       "      <td>1.0</td>\n",
       "      <td>2475.0</td>\n",
       "      <td>NaN</td>\n",
       "      <td>NaN</td>\n",
       "      <td>NaN</td>\n",
       "      <td>NaN</td>\n",
       "      <td>NaN</td>\n",
       "      <td>NaN</td>\n",
       "      <td>NaN</td>\n",
       "      <td>NaN</td>\n",
       "    </tr>\n",
       "    <tr>\n",
       "      <th>1</th>\n",
       "      <td>2015</td>\n",
       "      <td>1</td>\n",
       "      <td>2</td>\n",
       "      <td>5</td>\n",
       "      <td>2015-01-02</td>\n",
       "      <td>AA</td>\n",
       "      <td>19805</td>\n",
       "      <td>AA</td>\n",
       "      <td>12478</td>\n",
       "      <td>1247802</td>\n",
       "      <td>...</td>\n",
       "      <td>1.0</td>\n",
       "      <td>2475.0</td>\n",
       "      <td>NaN</td>\n",
       "      <td>NaN</td>\n",
       "      <td>NaN</td>\n",
       "      <td>NaN</td>\n",
       "      <td>NaN</td>\n",
       "      <td>NaN</td>\n",
       "      <td>NaN</td>\n",
       "      <td>NaN</td>\n",
       "    </tr>\n",
       "    <tr>\n",
       "      <th>2</th>\n",
       "      <td>2015</td>\n",
       "      <td>1</td>\n",
       "      <td>3</td>\n",
       "      <td>6</td>\n",
       "      <td>2015-01-03</td>\n",
       "      <td>AA</td>\n",
       "      <td>19805</td>\n",
       "      <td>AA</td>\n",
       "      <td>12478</td>\n",
       "      <td>1247802</td>\n",
       "      <td>...</td>\n",
       "      <td>1.0</td>\n",
       "      <td>2475.0</td>\n",
       "      <td>NaN</td>\n",
       "      <td>NaN</td>\n",
       "      <td>NaN</td>\n",
       "      <td>NaN</td>\n",
       "      <td>NaN</td>\n",
       "      <td>NaN</td>\n",
       "      <td>NaN</td>\n",
       "      <td>NaN</td>\n",
       "    </tr>\n",
       "    <tr>\n",
       "      <th>3</th>\n",
       "      <td>2015</td>\n",
       "      <td>1</td>\n",
       "      <td>4</td>\n",
       "      <td>7</td>\n",
       "      <td>2015-01-04</td>\n",
       "      <td>AA</td>\n",
       "      <td>19805</td>\n",
       "      <td>AA</td>\n",
       "      <td>12478</td>\n",
       "      <td>1247802</td>\n",
       "      <td>...</td>\n",
       "      <td>1.0</td>\n",
       "      <td>2475.0</td>\n",
       "      <td>NaN</td>\n",
       "      <td>NaN</td>\n",
       "      <td>NaN</td>\n",
       "      <td>NaN</td>\n",
       "      <td>NaN</td>\n",
       "      <td>NaN</td>\n",
       "      <td>NaN</td>\n",
       "      <td>NaN</td>\n",
       "    </tr>\n",
       "    <tr>\n",
       "      <th>4</th>\n",
       "      <td>2015</td>\n",
       "      <td>1</td>\n",
       "      <td>5</td>\n",
       "      <td>1</td>\n",
       "      <td>2015-01-05</td>\n",
       "      <td>AA</td>\n",
       "      <td>19805</td>\n",
       "      <td>AA</td>\n",
       "      <td>12478</td>\n",
       "      <td>1247802</td>\n",
       "      <td>...</td>\n",
       "      <td>1.0</td>\n",
       "      <td>2475.0</td>\n",
       "      <td>NaN</td>\n",
       "      <td>NaN</td>\n",
       "      <td>NaN</td>\n",
       "      <td>NaN</td>\n",
       "      <td>NaN</td>\n",
       "      <td>NaN</td>\n",
       "      <td>NaN</td>\n",
       "      <td>NaN</td>\n",
       "    </tr>\n",
       "  </tbody>\n",
       "</table>\n",
       "<p>5 rows × 50 columns</p>\n",
       "</div>"
      ],
      "text/plain": [
       "   YEAR  MONTH  DAY_OF_MONTH  DAY_OF_WEEK     FL_DATE UNIQUE_CARRIER  \\\n",
       "0  2015      1             1            4  2015-01-01             AA   \n",
       "1  2015      1             2            5  2015-01-02             AA   \n",
       "2  2015      1             3            6  2015-01-03             AA   \n",
       "3  2015      1             4            7  2015-01-04             AA   \n",
       "4  2015      1             5            1  2015-01-05             AA   \n",
       "\n",
       "   AIRLINE_ID CARRIER  ORIGIN_AIRPORT_ID  ORIGIN_AIRPORT_SEQ_ID     ...      \\\n",
       "0       19805      AA              12478                1247802     ...       \n",
       "1       19805      AA              12478                1247802     ...       \n",
       "2       19805      AA              12478                1247802     ...       \n",
       "3       19805      AA              12478                1247802     ...       \n",
       "4       19805      AA              12478                1247802     ...       \n",
       "\n",
       "   FLIGHTS DISTANCE CARRIER_DELAY WEATHER_DELAY NAS_DELAY  SECURITY_DELAY  \\\n",
       "0      1.0   2475.0           NaN           NaN       NaN             NaN   \n",
       "1      1.0   2475.0           NaN           NaN       NaN             NaN   \n",
       "2      1.0   2475.0           NaN           NaN       NaN             NaN   \n",
       "3      1.0   2475.0           NaN           NaN       NaN             NaN   \n",
       "4      1.0   2475.0           NaN           NaN       NaN             NaN   \n",
       "\n",
       "   LATE_AIRCRAFT_DELAY  FIRST_DEP_TIME TOTAL_ADD_GTIME Unnamed: 49  \n",
       "0                  NaN             NaN             NaN         NaN  \n",
       "1                  NaN             NaN             NaN         NaN  \n",
       "2                  NaN             NaN             NaN         NaN  \n",
       "3                  NaN             NaN             NaN         NaN  \n",
       "4                  NaN             NaN             NaN         NaN  \n",
       "\n",
       "[5 rows x 50 columns]"
      ]
     },
     "execution_count": 35,
     "metadata": {},
     "output_type": "execute_result"
    }
   ],
   "source": [
    "df_ny_2015 = df_ny_2015[df_ny_2015.ORIGIN_AIRPORT_ID.isin([12953,12478])]\n",
    "df_ny_2015.head()"
   ]
  },
  {
   "cell_type": "code",
   "execution_count": 36,
   "metadata": {
    "collapsed": false
   },
   "outputs": [
    {
     "data": {
      "text/plain": [
       "Index([u'YEAR', u'MONTH', u'DAY_OF_MONTH', u'DAY_OF_WEEK', u'FL_DATE',\n",
       "       u'UNIQUE_CARRIER', u'AIRLINE_ID', u'CARRIER', u'ORIGIN_AIRPORT_ID',\n",
       "       u'ORIGIN_AIRPORT_SEQ_ID', u'ORIGIN_CITY_MARKET_ID', u'ORIGIN',\n",
       "       u'ORIGIN_CITY_NAME', u'ORIGIN_STATE_ABR', u'ORIGIN_STATE_NM',\n",
       "       u'DEST_AIRPORT_ID', u'DEST_AIRPORT_SEQ_ID', u'DEST_CITY_MARKET_ID',\n",
       "       u'DEST', u'DEST_CITY_NAME', u'DEST_STATE_ABR', u'DEST_STATE_NM',\n",
       "       u'CRS_DEP_TIME', u'DEP_TIME', u'DEP_DELAY', u'DEP_DELAY_NEW',\n",
       "       u'TAXI_OUT', u'WHEELS_OFF', u'WHEELS_ON', u'TAXI_IN', u'CRS_ARR_TIME',\n",
       "       u'ARR_TIME', u'ARR_DELAY', u'ARR_DELAY_NEW', u'CANCELLED',\n",
       "       u'CANCELLATION_CODE', u'DIVERTED', u'CRS_ELAPSED_TIME',\n",
       "       u'ACTUAL_ELAPSED_TIME', u'AIR_TIME', u'FLIGHTS', u'DISTANCE',\n",
       "       u'CARRIER_DELAY', u'WEATHER_DELAY', u'NAS_DELAY', u'SECURITY_DELAY',\n",
       "       u'LATE_AIRCRAFT_DELAY', u'FIRST_DEP_TIME', u'TOTAL_ADD_GTIME',\n",
       "       u'Unnamed: 49'],\n",
       "      dtype='object')"
      ]
     },
     "execution_count": 36,
     "metadata": {},
     "output_type": "execute_result"
    }
   ],
   "source": [
    "df_ny_2015.columns"
   ]
  },
  {
   "cell_type": "code",
   "execution_count": 37,
   "metadata": {
    "collapsed": false
   },
   "outputs": [
    {
     "name": "stderr",
     "output_type": "stream",
     "text": [
      "C:\\Users\\Rich\\Anaconda2\\lib\\site-packages\\ipykernel\\__main__.py:1: UserWarning: Boolean Series key will be reindexed to match DataFrame index.\n",
      "  if __name__ == '__main__':\n",
      "C:\\Users\\Rich\\Anaconda2\\lib\\site-packages\\ipykernel\\__main__.py:2: UserWarning: Boolean Series key will be reindexed to match DataFrame index.\n",
      "  from ipykernel import kernelapp as app\n"
     ]
    }
   ],
   "source": [
    "df_delays_all_jfk = df_ny_2015[df_ny_2015.ORIGIN_AIRPORT_ID==12478][df_ny_2015.DEP_DELAY>0][df_ny_2015.CARRIER_DELAY==1].groupby('FL_DATE')['DEP_DELAY'].count()\n",
    "df_delays_all_lag = df_ny_2015[df_ny_2015.ORIGIN_AIRPORT_ID==12953][df_ny_2015.DEP_DELAY>0][df_ny_2015.CARRIER_DELAY==1].groupby('FL_DATE')['DEP_DELAY'].count()"
   ]
  },
  {
   "cell_type": "code",
   "execution_count": 38,
   "metadata": {
    "collapsed": false
   },
   "outputs": [
    {
     "name": "stdout",
     "output_type": "stream",
     "text": [
      "167\n",
      "220\n"
     ]
    }
   ],
   "source": [
    "delays_values_jfk = df_delays_all_jfk.values\n",
    "delays_values_lag = df_delays_all_lag.values\n",
    "\n",
    "days_jfk = df_delays_all_jfk.index.values\n",
    "days_lag = df_delays_all_lag.index.values\n",
    "\n",
    "\n",
    "print len(days_jfk)\n",
    "print len(days_lag)"
   ]
  },
  {
   "cell_type": "code",
   "execution_count": 39,
   "metadata": {
    "collapsed": false
   },
   "outputs": [
    {
     "name": "stderr",
     "output_type": "stream",
     "text": [
      "C:\\Users\\Rich\\Anaconda2\\lib\\site-packages\\ipykernel\\__main__.py:2: UserWarning: Boolean Series key will be reindexed to match DataFrame index.\n",
      "  from ipykernel import kernelapp as app\n"
     ]
    },
    {
     "data": {
      "text/plain": [
       "<matplotlib.legend.Legend at 0x172404a8>"
      ]
     },
     "execution_count": 39,
     "metadata": {},
     "output_type": "execute_result"
    },
    {
     "data": {
      "text/plain": [
       "<matplotlib.figure.Figure at 0xf376d68>"
      ]
     },
     "metadata": {},
     "output_type": "display_data"
    },
    {
     "data": {
      "image/png": "[encoded data removed]",
      "text/plain": [
       "<matplotlib.figure.Figure at 0x1390fe80>"
      ]
     },
     "metadata": {},
     "output_type": "display_data"
    }
   ],
   "source": [
    "plt.figure(figsize=(25,5))\n",
    "df_ny_2015[df_ny_2015.DEP_DELAY>0][df_ny_2015.CARRIER_DELAY==1][df_ny_2015.ORIGIN_AIRPORT_ID.isin([12953,12478])].groupby(['FL_DATE','ORIGIN_AIRPORT_ID'])['DEP_DELAY'].count().unstack().plot(figsize=(15,5))\n",
    "#df_ny_2015[df_ny_2015.ORIGIN_AIRPORT_ID==12953][df_ny_2015.DEP_DELAY>0][df_ny_2015.CARRIER_DELAY==1].groupby(['FL_DATE','ORIGIN_AIRPORT_ID'])['DEP_DELAY'].count().plot(ax=ax,label='lag')\n",
    "plt.legend()"
   ]
  },
  {
   "cell_type": "code",
   "execution_count": 40,
   "metadata": {
    "collapsed": false
   },
   "outputs": [
    {
     "name": "stderr",
     "output_type": "stream",
     "text": [
      "C:\\Users\\Rich\\Anaconda2\\lib\\site-packages\\ipykernel\\__main__.py:1: UserWarning: Boolean Series key will be reindexed to match DataFrame index.\n",
      "  if __name__ == '__main__':\n"
     ]
    },
    {
     "data": {
      "text/plain": [
       "FL_DATE\n",
       "2015-01-01    1\n",
       "2015-01-02    1\n",
       "2015-01-03    2\n",
       "2015-01-04    3\n",
       "2015-01-05    1\n",
       "2015-01-08    1\n",
       "2015-01-09    2\n",
       "2015-01-12    1\n",
       "2015-01-13    1\n",
       "2015-01-16    1\n",
       "2015-01-19    1\n",
       "2015-01-24    2\n",
       "2015-01-25    1\n",
       "2015-01-30    3\n",
       "2015-01-31    1\n",
       "2015-02-02    1\n",
       "2015-02-05    1\n",
       "2015-02-08    2\n",
       "2015-02-09    1\n",
       "2015-02-10    2\n",
       "2015-02-12    2\n",
       "2015-02-13    1\n",
       "2015-02-17    4\n",
       "2015-02-19    2\n",
       "2015-02-20    1\n",
       "2015-02-21    1\n",
       "2015-02-22    4\n",
       "2015-02-23    5\n",
       "2015-02-25    3\n",
       "2015-02-26    1\n",
       "             ..\n",
       "2015-10-21    1\n",
       "2015-10-22    1\n",
       "2015-10-23    1\n",
       "2015-10-24    3\n",
       "2015-10-25    2\n",
       "2015-11-02    1\n",
       "2015-11-05    1\n",
       "2015-11-10    3\n",
       "2015-11-12    1\n",
       "2015-11-15    1\n",
       "2015-11-19    1\n",
       "2015-11-20    3\n",
       "2015-11-22    1\n",
       "2015-11-29    1\n",
       "2015-12-01    2\n",
       "2015-12-02    1\n",
       "2015-12-03    1\n",
       "2015-12-04    1\n",
       "2015-12-11    1\n",
       "2015-12-14    2\n",
       "2015-12-16    1\n",
       "2015-12-18    1\n",
       "2015-12-19    3\n",
       "2015-12-20    1\n",
       "2015-12-21    1\n",
       "2015-12-24    1\n",
       "2015-12-25    2\n",
       "2015-12-26    1\n",
       "2015-12-29    1\n",
       "2015-12-30    1\n",
       "Name: DEP_DELAY, dtype: int64"
      ]
     },
     "execution_count": 40,
     "metadata": {},
     "output_type": "execute_result"
    }
   ],
   "source": [
    "df_ny_2015[df_ny_2015.ORIGIN_AIRPORT_ID==12478][df_ny_2015.DEP_DELAY>0][df_ny_2015.CARRIER_DELAY==1].groupby('FL_DATE')['DEP_DELAY'].count()"
   ]
  },
  {
   "cell_type": "markdown",
   "metadata": {},
   "source": [
    "#### Below shows the number of flights per day over the year 2015 for JFK.  The characteristic weekly pattern can be seen."
   ]
  },
  {
   "cell_type": "code",
   "execution_count": 43,
   "metadata": {
    "collapsed": false
   },
   "outputs": [
    {
     "data": {
      "image/png": "[encoded data removed]",
      "text/plain": [
       "<matplotlib.figure.Figure at 0x179a0c50>"
      ]
     },
     "metadata": {},
     "output_type": "display_data"
    }
   ],
   "source": [
    "plt.figure(figsize=(25,5))\n",
    "df_ny_2015[df_ny_2015.ORIGIN_AIRPORT_ID==12478].groupby('FL_DATE')['ORIGIN'].count().plot(use_index=True)\n",
    "df_ny_2015[df_ny_2015.ORIGIN_AIRPORT_ID==12478].groupby('FL_DATE')['CARRIER'].unique().apply(lambda x: 20.*len(x)).plot(use_index=True, sharex=True)\n",
    "plt.xticks(rotation='vertical')\n",
    "plt.show()"
   ]
  },
  {
   "cell_type": "code",
   "execution_count": 44,
   "metadata": {
    "collapsed": false
   },
   "outputs": [
    {
     "data": {
      "text/plain": [
       "FL_DATE\n",
       "2015-01-01    8\n",
       "2015-01-02    8\n",
       "2015-01-03    8\n",
       "2015-01-04    8\n",
       "2015-01-05    8\n",
       "2015-01-06    8\n",
       "2015-01-07    8\n",
       "2015-01-08    8\n",
       "2015-01-09    8\n",
       "2015-01-10    8\n",
       "2015-01-11    8\n",
       "2015-01-12    8\n",
       "2015-01-13    8\n",
       "2015-01-14    8\n",
       "2015-01-15    8\n",
       "2015-01-16    8\n",
       "2015-01-17    8\n",
       "2015-01-18    8\n",
       "2015-01-19    8\n",
       "2015-01-20    8\n",
       "2015-01-21    8\n",
       "2015-01-22    8\n",
       "2015-01-23    8\n",
       "2015-01-24    8\n",
       "2015-01-25    8\n",
       "2015-01-26    8\n",
       "2015-01-27    7\n",
       "2015-01-28    7\n",
       "2015-01-29    8\n",
       "2015-01-30    8\n",
       "             ..\n",
       "2015-12-02    7\n",
       "2015-12-03    7\n",
       "2015-12-04    7\n",
       "2015-12-05    7\n",
       "2015-12-06    7\n",
       "2015-12-07    7\n",
       "2015-12-08    6\n",
       "2015-12-09    6\n",
       "2015-12-10    7\n",
       "2015-12-11    7\n",
       "2015-12-12    7\n",
       "2015-12-13    7\n",
       "2015-12-14    7\n",
       "2015-12-15    7\n",
       "2015-12-16    7\n",
       "2015-12-17    7\n",
       "2015-12-18    7\n",
       "2015-12-19    7\n",
       "2015-12-20    7\n",
       "2015-12-21    7\n",
       "2015-12-22    7\n",
       "2015-12-23    7\n",
       "2015-12-24    7\n",
       "2015-12-25    7\n",
       "2015-12-26    7\n",
       "2015-12-27    7\n",
       "2015-12-28    7\n",
       "2015-12-29    7\n",
       "2015-12-30    7\n",
       "2015-12-31    7\n",
       "Name: CARRIER, dtype: int64"
      ]
     },
     "execution_count": 44,
     "metadata": {},
     "output_type": "execute_result"
    }
   ],
   "source": [
    "df_ny_2015[df_ny_2015.ORIGIN_AIRPORT_ID==12478].groupby('FL_DATE')['CARRIER'].unique().apply(lambda x: len(x))"
   ]
  },
  {
   "cell_type": "markdown",
   "metadata": {},
   "source": [
    "#### Load in weather data from NOAA collected by a weather station at JFK."
   ]
  },
  {
   "cell_type": "code",
   "execution_count": 45,
   "metadata": {
    "collapsed": false,
    "scrolled": true
   },
   "outputs": [],
   "source": [
    "weather_df = pd.read_csv('../../../Github/CitiBikeApp/data/jfk_temp_data.txt')"
   ]
  },
  {
   "cell_type": "code",
   "execution_count": 46,
   "metadata": {
    "collapsed": false
   },
   "outputs": [
    {
     "data": {
      "text/html": [
       "<div>\n",
       "<table border=\"1\" class=\"dataframe\">\n",
       "  <thead>\n",
       "    <tr style=\"text-align: right;\">\n",
       "      <th></th>\n",
       "      <th>USAF</th>\n",
       "      <th>NCDC.</th>\n",
       "      <th>Date</th>\n",
       "      <th>HrMn</th>\n",
       "      <th>I</th>\n",
       "      <th>Type</th>\n",
       "      <th>QCP</th>\n",
       "      <th>Temp</th>\n",
       "      <th>Q</th>\n",
       "    </tr>\n",
       "  </thead>\n",
       "  <tbody>\n",
       "    <tr>\n",
       "      <th>0</th>\n",
       "      <td>744860</td>\n",
       "      <td>94789</td>\n",
       "      <td>2013-07-01</td>\n",
       "      <td>0</td>\n",
       "      <td>4</td>\n",
       "      <td>FM-12</td>\n",
       "      <td></td>\n",
       "      <td>23.3</td>\n",
       "      <td>1</td>\n",
       "    </tr>\n",
       "    <tr>\n",
       "      <th>1</th>\n",
       "      <td>744860</td>\n",
       "      <td>94789</td>\n",
       "      <td>2013-07-01</td>\n",
       "      <td>49</td>\n",
       "      <td>6</td>\n",
       "      <td>FM-16</td>\n",
       "      <td></td>\n",
       "      <td>23.0</td>\n",
       "      <td>5</td>\n",
       "    </tr>\n",
       "    <tr>\n",
       "      <th>2</th>\n",
       "      <td>744860</td>\n",
       "      <td>94789</td>\n",
       "      <td>2013-07-01</td>\n",
       "      <td>51</td>\n",
       "      <td>7</td>\n",
       "      <td>FM-15</td>\n",
       "      <td></td>\n",
       "      <td>22.8</td>\n",
       "      <td>5</td>\n",
       "    </tr>\n",
       "    <tr>\n",
       "      <th>3</th>\n",
       "      <td>744860</td>\n",
       "      <td>94789</td>\n",
       "      <td>2013-07-01</td>\n",
       "      <td>105</td>\n",
       "      <td>7</td>\n",
       "      <td>FM-16</td>\n",
       "      <td></td>\n",
       "      <td>23.0</td>\n",
       "      <td>5</td>\n",
       "    </tr>\n",
       "    <tr>\n",
       "      <th>4</th>\n",
       "      <td>744860</td>\n",
       "      <td>94789</td>\n",
       "      <td>2013-07-01</td>\n",
       "      <td>151</td>\n",
       "      <td>7</td>\n",
       "      <td>FM-15</td>\n",
       "      <td></td>\n",
       "      <td>22.2</td>\n",
       "      <td>5</td>\n",
       "    </tr>\n",
       "  </tbody>\n",
       "</table>\n",
       "</div>"
      ],
      "text/plain": [
       "     USAF  NCDC.        Date  HrMn  I   Type   QCP  Temp Q \n",
       "0  744860  94789  2013-07-01     0  4  FM-12        23.3  1\n",
       "1  744860  94789  2013-07-01    49  6  FM-16        23.0  5\n",
       "2  744860  94789  2013-07-01    51  7  FM-15        22.8  5\n",
       "3  744860  94789  2013-07-01   105  7  FM-16        23.0  5\n",
       "4  744860  94789  2013-07-01   151  7  FM-15        22.2  5"
      ]
     },
     "execution_count": 46,
     "metadata": {},
     "output_type": "execute_result"
    }
   ],
   "source": [
    "weather_df['Date'] = weather_df['Date'].apply(lambda x: str(x))\n",
    "weather_df['Date'] = weather_df['Date'].apply(lambda x: x[0:4]+'-'+x[4:6]+'-'+x[6:])\n",
    "weather_df.head()"
   ]
  },
  {
   "cell_type": "code",
   "execution_count": 47,
   "metadata": {
    "collapsed": false
   },
   "outputs": [
    {
     "data": {
      "text/plain": [
       "<matplotlib.axes._subplots.AxesSubplot at 0x181b0dd8>"
      ]
     },
     "execution_count": 47,
     "metadata": {},
     "output_type": "execute_result"
    },
    {
     "data": {
      "image/png": "[encoded data removed]",
      "text/plain": [
       "<matplotlib.figure.Figure at 0x181dae48>"
      ]
     },
     "metadata": {},
     "output_type": "display_data"
    }
   ],
   "source": [
    "weather_df['Temp'].hist(bins=100)"
   ]
  },
  {
   "cell_type": "code",
   "execution_count": 48,
   "metadata": {
    "collapsed": false
   },
   "outputs": [],
   "source": [
    "df_avg_daily_temp = weather_df.groupby('Date')['Temp'].mean()"
   ]
  },
  {
   "cell_type": "code",
   "execution_count": 49,
   "metadata": {
    "collapsed": false
   },
   "outputs": [
    {
     "data": {
      "text/html": [
       "<div>\n",
       "<table border=\"1\" class=\"dataframe\">\n",
       "  <thead>\n",
       "    <tr style=\"text-align: right;\">\n",
       "      <th></th>\n",
       "      <th>Temp</th>\n",
       "    </tr>\n",
       "    <tr>\n",
       "      <th>Date</th>\n",
       "      <th></th>\n",
       "    </tr>\n",
       "  </thead>\n",
       "  <tbody>\n",
       "    <tr>\n",
       "      <th>2013-07-01</th>\n",
       "      <td>22.808475</td>\n",
       "    </tr>\n",
       "    <tr>\n",
       "      <th>2013-07-02</th>\n",
       "      <td>22.888000</td>\n",
       "    </tr>\n",
       "    <tr>\n",
       "      <th>2013-07-03</th>\n",
       "      <td>23.530556</td>\n",
       "    </tr>\n",
       "    <tr>\n",
       "      <th>2013-07-04</th>\n",
       "      <td>25.092500</td>\n",
       "    </tr>\n",
       "    <tr>\n",
       "      <th>2013-07-05</th>\n",
       "      <td>25.981250</td>\n",
       "    </tr>\n",
       "  </tbody>\n",
       "</table>\n",
       "</div>"
      ],
      "text/plain": [
       "                 Temp\n",
       "Date                 \n",
       "2013-07-01  22.808475\n",
       "2013-07-02  22.888000\n",
       "2013-07-03  23.530556\n",
       "2013-07-04  25.092500\n",
       "2013-07-05  25.981250"
      ]
     },
     "execution_count": 49,
     "metadata": {},
     "output_type": "execute_result"
    }
   ],
   "source": [
    "df_avg_daily_temp.to_frame().head()"
   ]
  },
  {
   "cell_type": "code",
   "execution_count": 50,
   "metadata": {
    "collapsed": false
   },
   "outputs": [
    {
     "data": {
      "text/html": [
       "<div>\n",
       "<table border=\"1\" class=\"dataframe\">\n",
       "  <thead>\n",
       "    <tr style=\"text-align: right;\">\n",
       "      <th></th>\n",
       "      <th>YEAR</th>\n",
       "      <th>MONTH</th>\n",
       "      <th>DAY_OF_MONTH</th>\n",
       "      <th>DAY_OF_WEEK</th>\n",
       "      <th>FL_DATE</th>\n",
       "      <th>UNIQUE_CARRIER</th>\n",
       "      <th>AIRLINE_ID</th>\n",
       "      <th>CARRIER</th>\n",
       "      <th>ORIGIN_AIRPORT_ID</th>\n",
       "      <th>ORIGIN_AIRPORT_SEQ_ID</th>\n",
       "      <th>...</th>\n",
       "      <th>DISTANCE</th>\n",
       "      <th>CARRIER_DELAY</th>\n",
       "      <th>WEATHER_DELAY</th>\n",
       "      <th>NAS_DELAY</th>\n",
       "      <th>SECURITY_DELAY</th>\n",
       "      <th>LATE_AIRCRAFT_DELAY</th>\n",
       "      <th>FIRST_DEP_TIME</th>\n",
       "      <th>TOTAL_ADD_GTIME</th>\n",
       "      <th>Unnamed: 49</th>\n",
       "      <th>Temp</th>\n",
       "    </tr>\n",
       "  </thead>\n",
       "  <tbody>\n",
       "    <tr>\n",
       "      <th>0</th>\n",
       "      <td>2015</td>\n",
       "      <td>1</td>\n",
       "      <td>1</td>\n",
       "      <td>4</td>\n",
       "      <td>2015-01-01</td>\n",
       "      <td>AA</td>\n",
       "      <td>19805</td>\n",
       "      <td>AA</td>\n",
       "      <td>12478</td>\n",
       "      <td>1247802</td>\n",
       "      <td>...</td>\n",
       "      <td>2475.0</td>\n",
       "      <td>NaN</td>\n",
       "      <td>NaN</td>\n",
       "      <td>NaN</td>\n",
       "      <td>NaN</td>\n",
       "      <td>NaN</td>\n",
       "      <td>NaN</td>\n",
       "      <td>NaN</td>\n",
       "      <td>NaN</td>\n",
       "      <td>0.41875</td>\n",
       "    </tr>\n",
       "    <tr>\n",
       "      <th>62</th>\n",
       "      <td>2015</td>\n",
       "      <td>1</td>\n",
       "      <td>1</td>\n",
       "      <td>4</td>\n",
       "      <td>2015-01-01</td>\n",
       "      <td>AA</td>\n",
       "      <td>19805</td>\n",
       "      <td>AA</td>\n",
       "      <td>12478</td>\n",
       "      <td>1247802</td>\n",
       "      <td>...</td>\n",
       "      <td>2475.0</td>\n",
       "      <td>NaN</td>\n",
       "      <td>NaN</td>\n",
       "      <td>NaN</td>\n",
       "      <td>NaN</td>\n",
       "      <td>NaN</td>\n",
       "      <td>NaN</td>\n",
       "      <td>NaN</td>\n",
       "      <td>NaN</td>\n",
       "      <td>0.41875</td>\n",
       "    </tr>\n",
       "    <tr>\n",
       "      <th>124</th>\n",
       "      <td>2015</td>\n",
       "      <td>1</td>\n",
       "      <td>1</td>\n",
       "      <td>4</td>\n",
       "      <td>2015-01-01</td>\n",
       "      <td>AA</td>\n",
       "      <td>19805</td>\n",
       "      <td>AA</td>\n",
       "      <td>12478</td>\n",
       "      <td>1247802</td>\n",
       "      <td>...</td>\n",
       "      <td>2475.0</td>\n",
       "      <td>NaN</td>\n",
       "      <td>NaN</td>\n",
       "      <td>NaN</td>\n",
       "      <td>NaN</td>\n",
       "      <td>NaN</td>\n",
       "      <td>NaN</td>\n",
       "      <td>NaN</td>\n",
       "      <td>NaN</td>\n",
       "      <td>0.41875</td>\n",
       "    </tr>\n",
       "    <tr>\n",
       "      <th>217</th>\n",
       "      <td>2015</td>\n",
       "      <td>1</td>\n",
       "      <td>1</td>\n",
       "      <td>4</td>\n",
       "      <td>2015-01-01</td>\n",
       "      <td>AA</td>\n",
       "      <td>19805</td>\n",
       "      <td>AA</td>\n",
       "      <td>12478</td>\n",
       "      <td>1247802</td>\n",
       "      <td>...</td>\n",
       "      <td>2586.0</td>\n",
       "      <td>0.0</td>\n",
       "      <td>0.0</td>\n",
       "      <td>48.0</td>\n",
       "      <td>0.0</td>\n",
       "      <td>0.0</td>\n",
       "      <td>NaN</td>\n",
       "      <td>NaN</td>\n",
       "      <td>NaN</td>\n",
       "      <td>0.41875</td>\n",
       "    </tr>\n",
       "    <tr>\n",
       "      <th>304</th>\n",
       "      <td>2015</td>\n",
       "      <td>1</td>\n",
       "      <td>1</td>\n",
       "      <td>4</td>\n",
       "      <td>2015-01-01</td>\n",
       "      <td>AA</td>\n",
       "      <td>19805</td>\n",
       "      <td>AA</td>\n",
       "      <td>12478</td>\n",
       "      <td>1247802</td>\n",
       "      <td>...</td>\n",
       "      <td>2475.0</td>\n",
       "      <td>NaN</td>\n",
       "      <td>NaN</td>\n",
       "      <td>NaN</td>\n",
       "      <td>NaN</td>\n",
       "      <td>NaN</td>\n",
       "      <td>NaN</td>\n",
       "      <td>NaN</td>\n",
       "      <td>NaN</td>\n",
       "      <td>0.41875</td>\n",
       "    </tr>\n",
       "  </tbody>\n",
       "</table>\n",
       "<p>5 rows × 51 columns</p>\n",
       "</div>"
      ],
      "text/plain": [
       "     YEAR  MONTH  DAY_OF_MONTH  DAY_OF_WEEK     FL_DATE UNIQUE_CARRIER  \\\n",
       "0    2015      1             1            4  2015-01-01             AA   \n",
       "62   2015      1             1            4  2015-01-01             AA   \n",
       "124  2015      1             1            4  2015-01-01             AA   \n",
       "217  2015      1             1            4  2015-01-01             AA   \n",
       "304  2015      1             1            4  2015-01-01             AA   \n",
       "\n",
       "     AIRLINE_ID CARRIER  ORIGIN_AIRPORT_ID  ORIGIN_AIRPORT_SEQ_ID   ...     \\\n",
       "0         19805      AA              12478                1247802   ...      \n",
       "62        19805      AA              12478                1247802   ...      \n",
       "124       19805      AA              12478                1247802   ...      \n",
       "217       19805      AA              12478                1247802   ...      \n",
       "304       19805      AA              12478                1247802   ...      \n",
       "\n",
       "     DISTANCE CARRIER_DELAY WEATHER_DELAY NAS_DELAY SECURITY_DELAY  \\\n",
       "0      2475.0           NaN           NaN       NaN            NaN   \n",
       "62     2475.0           NaN           NaN       NaN            NaN   \n",
       "124    2475.0           NaN           NaN       NaN            NaN   \n",
       "217    2586.0           0.0           0.0      48.0            0.0   \n",
       "304    2475.0           NaN           NaN       NaN            NaN   \n",
       "\n",
       "     LATE_AIRCRAFT_DELAY  FIRST_DEP_TIME  TOTAL_ADD_GTIME Unnamed: 49     Temp  \n",
       "0                    NaN             NaN              NaN         NaN  0.41875  \n",
       "62                   NaN             NaN              NaN         NaN  0.41875  \n",
       "124                  NaN             NaN              NaN         NaN  0.41875  \n",
       "217                  0.0             NaN              NaN         NaN  0.41875  \n",
       "304                  NaN             NaN              NaN         NaN  0.41875  \n",
       "\n",
       "[5 rows x 51 columns]"
      ]
     },
     "execution_count": 50,
     "metadata": {},
     "output_type": "execute_result"
    }
   ],
   "source": [
    "temp = df_ny_2015.merge(df_avg_daily_temp.to_frame(), left_on='FL_DATE',right_index=True)\n",
    "#temp = df_ny_2015.merge(df_avg_daily_temp, left_on='FL_DATE')\n",
    "temp.head()"
   ]
  },
  {
   "cell_type": "code",
   "execution_count": 51,
   "metadata": {
    "collapsed": false
   },
   "outputs": [
    {
     "data": {
      "text/plain": [
       "Index([u'YEAR', u'MONTH', u'DAY_OF_MONTH', u'DAY_OF_WEEK', u'FL_DATE',\n",
       "       u'UNIQUE_CARRIER', u'AIRLINE_ID', u'CARRIER', u'ORIGIN_AIRPORT_ID',\n",
       "       u'ORIGIN_AIRPORT_SEQ_ID', u'ORIGIN_CITY_MARKET_ID', u'ORIGIN',\n",
       "       u'ORIGIN_CITY_NAME', u'ORIGIN_STATE_ABR', u'ORIGIN_STATE_NM',\n",
       "       u'DEST_AIRPORT_ID', u'DEST_AIRPORT_SEQ_ID', u'DEST_CITY_MARKET_ID',\n",
       "       u'DEST', u'DEST_CITY_NAME', u'DEST_STATE_ABR', u'DEST_STATE_NM',\n",
       "       u'CRS_DEP_TIME', u'DEP_TIME', u'DEP_DELAY', u'DEP_DELAY_NEW',\n",
       "       u'TAXI_OUT', u'WHEELS_OFF', u'WHEELS_ON', u'TAXI_IN', u'CRS_ARR_TIME',\n",
       "       u'ARR_TIME', u'ARR_DELAY', u'ARR_DELAY_NEW', u'CANCELLED',\n",
       "       u'CANCELLATION_CODE', u'DIVERTED', u'CRS_ELAPSED_TIME',\n",
       "       u'ACTUAL_ELAPSED_TIME', u'AIR_TIME', u'FLIGHTS', u'DISTANCE',\n",
       "       u'CARRIER_DELAY', u'WEATHER_DELAY', u'NAS_DELAY', u'SECURITY_DELAY',\n",
       "       u'LATE_AIRCRAFT_DELAY', u'FIRST_DEP_TIME', u'TOTAL_ADD_GTIME',\n",
       "       u'Unnamed: 49', u'Temp'],\n",
       "      dtype='object')"
      ]
     },
     "execution_count": 51,
     "metadata": {},
     "output_type": "execute_result"
    }
   ],
   "source": [
    "#plt.plot(range(len(temp.Temp)),temp.Temp)\n",
    "#plt.xticks(range(len(temp.Temp)),temp.FL_DATE)\n",
    "temp.columns"
   ]
  },
  {
   "cell_type": "markdown",
   "metadata": {},
   "source": [
    "#### There does NOT seem to be a strong correlation of departure delays and temperature.  My original idea was to try and look evidence of increased delays due to temperature (not characterized by the data already as originated from a weather delay.  Whether or not this class of delays is included does not make much of a difference in terms of the delay length correlating to temperature alone."
   ]
  },
  {
   "cell_type": "code",
   "execution_count": 52,
   "metadata": {
    "collapsed": false
   },
   "outputs": [
    {
     "data": {
      "text/plain": [
       "0.043919364540865653"
      ]
     },
     "execution_count": 52,
     "metadata": {},
     "output_type": "execute_result"
    }
   ],
   "source": [
    "temp = temp[temp.WEATHER_DELAY==1]\n",
    "temp['DEP_DELAY'].corr(temp['Temp'])"
   ]
  },
  {
   "cell_type": "code",
   "execution_count": 53,
   "metadata": {
    "collapsed": true
   },
   "outputs": [],
   "source": [
    "frames = [ pd.read_csv('./data/145558103_T_ONTIME_July_'+str(i)+'.zip') for i in [2006, 2007, 2008, 2009, 2010] ]\n",
    "df = pd.concat(frames, ignore_index=True)"
   ]
  },
  {
   "cell_type": "code",
   "execution_count": 54,
   "metadata": {
    "collapsed": false
   },
   "outputs": [
    {
     "data": {
      "text/html": [
       "<div>\n",
       "<table border=\"1\" class=\"dataframe\">\n",
       "  <thead>\n",
       "    <tr style=\"text-align: right;\">\n",
       "      <th></th>\n",
       "      <th>YEAR</th>\n",
       "      <th>MONTH</th>\n",
       "      <th>DAY_OF_MONTH</th>\n",
       "      <th>DAY_OF_WEEK</th>\n",
       "      <th>FL_DATE</th>\n",
       "      <th>UNIQUE_CARRIER</th>\n",
       "      <th>AIRLINE_ID</th>\n",
       "      <th>CARRIER</th>\n",
       "      <th>ORIGIN_AIRPORT_ID</th>\n",
       "      <th>ORIGIN_AIRPORT_SEQ_ID</th>\n",
       "      <th>...</th>\n",
       "      <th>FLIGHTS</th>\n",
       "      <th>DISTANCE</th>\n",
       "      <th>CARRIER_DELAY</th>\n",
       "      <th>WEATHER_DELAY</th>\n",
       "      <th>NAS_DELAY</th>\n",
       "      <th>SECURITY_DELAY</th>\n",
       "      <th>LATE_AIRCRAFT_DELAY</th>\n",
       "      <th>FIRST_DEP_TIME</th>\n",
       "      <th>TOTAL_ADD_GTIME</th>\n",
       "      <th>Unnamed: 49</th>\n",
       "    </tr>\n",
       "  </thead>\n",
       "  <tbody>\n",
       "    <tr>\n",
       "      <th>0</th>\n",
       "      <td>2006</td>\n",
       "      <td>7</td>\n",
       "      <td>1</td>\n",
       "      <td>6</td>\n",
       "      <td>2006-07-01</td>\n",
       "      <td>AA</td>\n",
       "      <td>19805</td>\n",
       "      <td>AA</td>\n",
       "      <td>12478</td>\n",
       "      <td>1247801</td>\n",
       "      <td>...</td>\n",
       "      <td>1.0</td>\n",
       "      <td>2475.0</td>\n",
       "      <td>NaN</td>\n",
       "      <td>NaN</td>\n",
       "      <td>NaN</td>\n",
       "      <td>NaN</td>\n",
       "      <td>NaN</td>\n",
       "      <td>NaN</td>\n",
       "      <td>NaN</td>\n",
       "      <td>NaN</td>\n",
       "    </tr>\n",
       "    <tr>\n",
       "      <th>1</th>\n",
       "      <td>2006</td>\n",
       "      <td>7</td>\n",
       "      <td>2</td>\n",
       "      <td>7</td>\n",
       "      <td>2006-07-02</td>\n",
       "      <td>AA</td>\n",
       "      <td>19805</td>\n",
       "      <td>AA</td>\n",
       "      <td>12478</td>\n",
       "      <td>1247801</td>\n",
       "      <td>...</td>\n",
       "      <td>1.0</td>\n",
       "      <td>2475.0</td>\n",
       "      <td>NaN</td>\n",
       "      <td>NaN</td>\n",
       "      <td>NaN</td>\n",
       "      <td>NaN</td>\n",
       "      <td>NaN</td>\n",
       "      <td>NaN</td>\n",
       "      <td>NaN</td>\n",
       "      <td>NaN</td>\n",
       "    </tr>\n",
       "    <tr>\n",
       "      <th>2</th>\n",
       "      <td>2006</td>\n",
       "      <td>7</td>\n",
       "      <td>3</td>\n",
       "      <td>1</td>\n",
       "      <td>2006-07-03</td>\n",
       "      <td>AA</td>\n",
       "      <td>19805</td>\n",
       "      <td>AA</td>\n",
       "      <td>12478</td>\n",
       "      <td>1247801</td>\n",
       "      <td>...</td>\n",
       "      <td>1.0</td>\n",
       "      <td>2475.0</td>\n",
       "      <td>NaN</td>\n",
       "      <td>NaN</td>\n",
       "      <td>NaN</td>\n",
       "      <td>NaN</td>\n",
       "      <td>NaN</td>\n",
       "      <td>NaN</td>\n",
       "      <td>NaN</td>\n",
       "      <td>NaN</td>\n",
       "    </tr>\n",
       "    <tr>\n",
       "      <th>3</th>\n",
       "      <td>2006</td>\n",
       "      <td>7</td>\n",
       "      <td>4</td>\n",
       "      <td>2</td>\n",
       "      <td>2006-07-04</td>\n",
       "      <td>AA</td>\n",
       "      <td>19805</td>\n",
       "      <td>AA</td>\n",
       "      <td>12478</td>\n",
       "      <td>1247801</td>\n",
       "      <td>...</td>\n",
       "      <td>1.0</td>\n",
       "      <td>2475.0</td>\n",
       "      <td>NaN</td>\n",
       "      <td>NaN</td>\n",
       "      <td>NaN</td>\n",
       "      <td>NaN</td>\n",
       "      <td>NaN</td>\n",
       "      <td>NaN</td>\n",
       "      <td>NaN</td>\n",
       "      <td>NaN</td>\n",
       "    </tr>\n",
       "    <tr>\n",
       "      <th>4</th>\n",
       "      <td>2006</td>\n",
       "      <td>7</td>\n",
       "      <td>5</td>\n",
       "      <td>3</td>\n",
       "      <td>2006-07-05</td>\n",
       "      <td>AA</td>\n",
       "      <td>19805</td>\n",
       "      <td>AA</td>\n",
       "      <td>12478</td>\n",
       "      <td>1247801</td>\n",
       "      <td>...</td>\n",
       "      <td>1.0</td>\n",
       "      <td>2475.0</td>\n",
       "      <td>13.0</td>\n",
       "      <td>0.0</td>\n",
       "      <td>87.0</td>\n",
       "      <td>0.0</td>\n",
       "      <td>0.0</td>\n",
       "      <td>NaN</td>\n",
       "      <td>NaN</td>\n",
       "      <td>NaN</td>\n",
       "    </tr>\n",
       "  </tbody>\n",
       "</table>\n",
       "<p>5 rows × 50 columns</p>\n",
       "</div>"
      ],
      "text/plain": [
       "   YEAR  MONTH  DAY_OF_MONTH  DAY_OF_WEEK     FL_DATE UNIQUE_CARRIER  \\\n",
       "0  2006      7             1            6  2006-07-01             AA   \n",
       "1  2006      7             2            7  2006-07-02             AA   \n",
       "2  2006      7             3            1  2006-07-03             AA   \n",
       "3  2006      7             4            2  2006-07-04             AA   \n",
       "4  2006      7             5            3  2006-07-05             AA   \n",
       "\n",
       "   AIRLINE_ID CARRIER  ORIGIN_AIRPORT_ID  ORIGIN_AIRPORT_SEQ_ID     ...      \\\n",
       "0       19805      AA              12478                1247801     ...       \n",
       "1       19805      AA              12478                1247801     ...       \n",
       "2       19805      AA              12478                1247801     ...       \n",
       "3       19805      AA              12478                1247801     ...       \n",
       "4       19805      AA              12478                1247801     ...       \n",
       "\n",
       "   FLIGHTS DISTANCE CARRIER_DELAY WEATHER_DELAY NAS_DELAY  SECURITY_DELAY  \\\n",
       "0      1.0   2475.0           NaN           NaN       NaN             NaN   \n",
       "1      1.0   2475.0           NaN           NaN       NaN             NaN   \n",
       "2      1.0   2475.0           NaN           NaN       NaN             NaN   \n",
       "3      1.0   2475.0           NaN           NaN       NaN             NaN   \n",
       "4      1.0   2475.0          13.0           0.0      87.0             0.0   \n",
       "\n",
       "   LATE_AIRCRAFT_DELAY  FIRST_DEP_TIME TOTAL_ADD_GTIME Unnamed: 49  \n",
       "0                  NaN             NaN             NaN         NaN  \n",
       "1                  NaN             NaN             NaN         NaN  \n",
       "2                  NaN             NaN             NaN         NaN  \n",
       "3                  NaN             NaN             NaN         NaN  \n",
       "4                  0.0             NaN             NaN         NaN  \n",
       "\n",
       "[5 rows x 50 columns]"
      ]
     },
     "execution_count": 54,
     "metadata": {},
     "output_type": "execute_result"
    }
   ],
   "source": [
    "df.head()"
   ]
  },
  {
   "cell_type": "code",
   "execution_count": 55,
   "metadata": {
    "collapsed": false
   },
   "outputs": [
    {
     "data": {
      "text/plain": [
       "<matplotlib.axes._subplots.AxesSubplot at 0xe21ed68>"
      ]
     },
     "execution_count": 55,
     "metadata": {},
     "output_type": "execute_result"
    },
    {
     "data": {
      "image/png": "[encoded data removed]",
      "text/plain": [
       "<matplotlib.figure.Figure at 0x1721d470>"
      ]
     },
     "metadata": {},
     "output_type": "display_data"
    }
   ],
   "source": [
    "plt.figure(figsize=(25,5))\n",
    "df[df.ORIGIN_AIRPORT_ID==12478].groupby('FL_DATE')['ORIGIN'].count().plot(use_index=True)"
   ]
  },
  {
   "cell_type": "code",
   "execution_count": null,
   "metadata": {
    "collapsed": true
   },
   "outputs": [],
   "source": []
  }
 ],
 "metadata": {
  "kernelspec": {
   "display_name": "Python 2",
   "language": "python",
   "name": "python2"
  },
  "language_info": {
   "codemirror_mode": {
    "name": "ipython",
    "version": 2
   },
   "file_extension": ".py",
   "mimetype": "text/x-python",
   "name": "python",
   "nbconvert_exporter": "python",
   "pygments_lexer": "ipython2",
   "version": "2.7.11"
  }
 },
 "nbformat": 4,
 "nbformat_minor": 0
}
